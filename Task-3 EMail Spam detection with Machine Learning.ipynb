{
 "cells": [
  {
   "cell_type": "markdown",
   "id": "e39fd726-35d5-4f80-a156-c7419ea4ed44",
   "metadata": {},
   "source": [
    "## Task-3: EMAIL SPAM DETECTION WITH MACHINE LEARNING"
   ]
  },
  {
   "cell_type": "code",
   "execution_count": 1,
   "id": "e13ff438-114e-4863-abb1-6412b8067ab6",
   "metadata": {},
   "outputs": [],
   "source": [
    "## importing the neceesary libraries\n",
    "import numpy as np\n",
    "import pandas as pd\n",
    "import matplotlib.pyplot as plt\n",
    "import seaborn as sns\n",
    "import warnings\n",
    "warnings.filterwarnings(action='ignore')"
   ]
  },
  {
   "cell_type": "code",
   "execution_count": 2,
   "id": "8a884e47-5666-4efe-bbae-4be9df16ab0c",
   "metadata": {},
   "outputs": [],
   "source": [
    "#importing the datset\n",
    "data=pd.read_csv(\"spam_ham_dataset.csv\")"
   ]
  },
  {
   "cell_type": "code",
   "execution_count": 3,
   "id": "888f5ff4-8215-41a4-ba80-bb40f5d20523",
   "metadata": {},
   "outputs": [
    {
     "data": {
      "text/html": [
       "<div>\n",
       "<style scoped>\n",
       "    .dataframe tbody tr th:only-of-type {\n",
       "        vertical-align: middle;\n",
       "    }\n",
       "\n",
       "    .dataframe tbody tr th {\n",
       "        vertical-align: top;\n",
       "    }\n",
       "\n",
       "    .dataframe thead th {\n",
       "        text-align: right;\n",
       "    }\n",
       "</style>\n",
       "<table border=\"1\" class=\"dataframe\">\n",
       "  <thead>\n",
       "    <tr style=\"text-align: right;\">\n",
       "      <th></th>\n",
       "      <th>Unnamed: 0</th>\n",
       "      <th>label</th>\n",
       "      <th>text</th>\n",
       "      <th>label_num</th>\n",
       "    </tr>\n",
       "  </thead>\n",
       "  <tbody>\n",
       "    <tr>\n",
       "      <th>0</th>\n",
       "      <td>605</td>\n",
       "      <td>ham</td>\n",
       "      <td>Subject: enron methanol ; meter # : 988291\\nth...</td>\n",
       "      <td>0</td>\n",
       "    </tr>\n",
       "    <tr>\n",
       "      <th>1</th>\n",
       "      <td>2349</td>\n",
       "      <td>ham</td>\n",
       "      <td>Subject: hpl nom for january 9 , 2001\\n( see a...</td>\n",
       "      <td>0</td>\n",
       "    </tr>\n",
       "    <tr>\n",
       "      <th>2</th>\n",
       "      <td>3624</td>\n",
       "      <td>ham</td>\n",
       "      <td>Subject: neon retreat\\nho ho ho , we ' re arou...</td>\n",
       "      <td>0</td>\n",
       "    </tr>\n",
       "    <tr>\n",
       "      <th>3</th>\n",
       "      <td>4685</td>\n",
       "      <td>spam</td>\n",
       "      <td>Subject: photoshop , windows , office . cheap ...</td>\n",
       "      <td>1</td>\n",
       "    </tr>\n",
       "    <tr>\n",
       "      <th>4</th>\n",
       "      <td>2030</td>\n",
       "      <td>ham</td>\n",
       "      <td>Subject: re : indian springs\\nthis deal is to ...</td>\n",
       "      <td>0</td>\n",
       "    </tr>\n",
       "  </tbody>\n",
       "</table>\n",
       "</div>"
      ],
      "text/plain": [
       "   Unnamed: 0 label                                               text  \\\n",
       "0         605   ham  Subject: enron methanol ; meter # : 988291\\nth...   \n",
       "1        2349   ham  Subject: hpl nom for january 9 , 2001\\n( see a...   \n",
       "2        3624   ham  Subject: neon retreat\\nho ho ho , we ' re arou...   \n",
       "3        4685  spam  Subject: photoshop , windows , office . cheap ...   \n",
       "4        2030   ham  Subject: re : indian springs\\nthis deal is to ...   \n",
       "\n",
       "   label_num  \n",
       "0          0  \n",
       "1          0  \n",
       "2          0  \n",
       "3          1  \n",
       "4          0  "
      ]
     },
     "execution_count": 3,
     "metadata": {},
     "output_type": "execute_result"
    }
   ],
   "source": [
    "data.head()"
   ]
  },
  {
   "cell_type": "code",
   "execution_count": 4,
   "id": "94d04c32-a0ee-4d73-879b-7f54ae630d6c",
   "metadata": {},
   "outputs": [
    {
     "data": {
      "text/plain": [
       "<bound method NDFrame.describe of      Unnamed: 0 label                                               text  \\\n",
       "0           605   ham  Subject: enron methanol ; meter # : 988291\\nth...   \n",
       "1          2349   ham  Subject: hpl nom for january 9 , 2001\\n( see a...   \n",
       "2          3624   ham  Subject: neon retreat\\nho ho ho , we ' re arou...   \n",
       "3          4685  spam  Subject: photoshop , windows , office . cheap ...   \n",
       "4          2030   ham  Subject: re : indian springs\\nthis deal is to ...   \n",
       "..          ...   ...                                                ...   \n",
       "694        4043  spam  Subject: cruise 3 nts mexico only $ 197 ! - - ...   \n",
       "695        1087   ham  Subject: july 2000 - hpl estimates and nominat...   \n",
       "696        1446   ham  Subject: hpl expense contracts\\nfyi . . . . . ...   \n",
       "697         252   ham  Subject: president @ juno . com : exciting new...   \n",
       "698        2709   ham  Subject: tenaska iv 1 / 01\\nwe need to change ...   \n",
       "\n",
       "     label_num  \n",
       "0            0  \n",
       "1            0  \n",
       "2            0  \n",
       "3            1  \n",
       "4            0  \n",
       "..         ...  \n",
       "694          1  \n",
       "695          0  \n",
       "696          0  \n",
       "697          0  \n",
       "698          0  \n",
       "\n",
       "[699 rows x 4 columns]>"
      ]
     },
     "execution_count": 4,
     "metadata": {},
     "output_type": "execute_result"
    }
   ],
   "source": [
    "data.describe"
   ]
  },
  {
   "cell_type": "markdown",
   "id": "b7977d76-a00b-4f7f-9371-83dcd19f4766",
   "metadata": {},
   "source": [
    "## Exploratory Data Analysis"
   ]
  },
  {
   "cell_type": "code",
   "execution_count": 5,
   "id": "5c6eeae6-00bc-466d-a19b-d66772716712",
   "metadata": {},
   "outputs": [
    {
     "data": {
      "text/html": [
       "<div>\n",
       "<style scoped>\n",
       "    .dataframe tbody tr th:only-of-type {\n",
       "        vertical-align: middle;\n",
       "    }\n",
       "\n",
       "    .dataframe tbody tr th {\n",
       "        vertical-align: top;\n",
       "    }\n",
       "\n",
       "    .dataframe thead th {\n",
       "        text-align: right;\n",
       "    }\n",
       "</style>\n",
       "<table border=\"1\" class=\"dataframe\">\n",
       "  <thead>\n",
       "    <tr style=\"text-align: right;\">\n",
       "      <th></th>\n",
       "      <th>Label</th>\n",
       "      <th>Text</th>\n",
       "      <th>Label_Number</th>\n",
       "    </tr>\n",
       "  </thead>\n",
       "  <tbody>\n",
       "    <tr>\n",
       "      <th>0</th>\n",
       "      <td>ham</td>\n",
       "      <td>Subject: enron methanol ; meter # : 988291\\nth...</td>\n",
       "      <td>0</td>\n",
       "    </tr>\n",
       "    <tr>\n",
       "      <th>1</th>\n",
       "      <td>ham</td>\n",
       "      <td>Subject: hpl nom for january 9 , 2001\\n( see a...</td>\n",
       "      <td>0</td>\n",
       "    </tr>\n",
       "    <tr>\n",
       "      <th>2</th>\n",
       "      <td>ham</td>\n",
       "      <td>Subject: neon retreat\\nho ho ho , we ' re arou...</td>\n",
       "      <td>0</td>\n",
       "    </tr>\n",
       "    <tr>\n",
       "      <th>3</th>\n",
       "      <td>spam</td>\n",
       "      <td>Subject: photoshop , windows , office . cheap ...</td>\n",
       "      <td>1</td>\n",
       "    </tr>\n",
       "    <tr>\n",
       "      <th>4</th>\n",
       "      <td>ham</td>\n",
       "      <td>Subject: re : indian springs\\nthis deal is to ...</td>\n",
       "      <td>0</td>\n",
       "    </tr>\n",
       "  </tbody>\n",
       "</table>\n",
       "</div>"
      ],
      "text/plain": [
       "  Label                                               Text  Label_Number\n",
       "0   ham  Subject: enron methanol ; meter # : 988291\\nth...             0\n",
       "1   ham  Subject: hpl nom for january 9 , 2001\\n( see a...             0\n",
       "2   ham  Subject: neon retreat\\nho ho ho , we ' re arou...             0\n",
       "3  spam  Subject: photoshop , windows , office . cheap ...             1\n",
       "4   ham  Subject: re : indian springs\\nthis deal is to ...             0"
      ]
     },
     "execution_count": 5,
     "metadata": {},
     "output_type": "execute_result"
    }
   ],
   "source": [
    "data.drop('Unnamed: 0',axis=1,inplace=True)\n",
    "data.columns=['Label','Text','Label_Number']\n",
    "data.head()"
   ]
  },
  {
   "cell_type": "code",
   "execution_count": 6,
   "id": "fdb62836-4d5c-4a2a-b0c0-bab828915406",
   "metadata": {},
   "outputs": [
    {
     "data": {
      "text/plain": [
       "(699, 3)"
      ]
     },
     "execution_count": 6,
     "metadata": {},
     "output_type": "execute_result"
    }
   ],
   "source": [
    "data.shape"
   ]
  },
  {
   "cell_type": "code",
   "execution_count": 7,
   "id": "fb4ecaa5-7cc7-442d-94ab-1e847f0e98d2",
   "metadata": {},
   "outputs": [
    {
     "name": "stdout",
     "output_type": "stream",
     "text": [
      "<class 'pandas.core.frame.DataFrame'>\n",
      "RangeIndex: 699 entries, 0 to 698\n",
      "Data columns (total 3 columns):\n",
      " #   Column        Non-Null Count  Dtype \n",
      "---  ------        --------------  ----- \n",
      " 0   Label         699 non-null    object\n",
      " 1   Text          699 non-null    object\n",
      " 2   Label_Number  699 non-null    int64 \n",
      "dtypes: int64(1), object(2)\n",
      "memory usage: 16.5+ KB\n"
     ]
    }
   ],
   "source": [
    "data.info()"
   ]
  },
  {
   "cell_type": "code",
   "execution_count": 8,
   "id": "d27fff15-adbe-4f59-b7c4-2abccbda6d75",
   "metadata": {},
   "outputs": [
    {
     "data": {
      "text/plain": [
       "Label           0\n",
       "Text            0\n",
       "Label_Number    0\n",
       "dtype: int64"
      ]
     },
     "execution_count": 8,
     "metadata": {},
     "output_type": "execute_result"
    }
   ],
   "source": [
    "## Checking null values\n",
    "data.isnull().sum()"
   ]
  },
  {
   "cell_type": "markdown",
   "id": "b2a44e87-e3a1-469b-9479-437f0c36a55f",
   "metadata": {},
   "source": [
    "### There are no missing values"
   ]
  },
  {
   "cell_type": "code",
   "execution_count": 9,
   "id": "3432eaef-aa0c-470b-8826-ada06a78eeef",
   "metadata": {},
   "outputs": [
    {
     "data": {
      "text/plain": [
       "0    496\n",
       "1    203\n",
       "Name: Label_Number, dtype: int64"
      ]
     },
     "execution_count": 9,
     "metadata": {},
     "output_type": "execute_result"
    }
   ],
   "source": [
    "#Checking the counts of spam and ham\n",
    "data['Label_Number'].value_counts()"
   ]
  },
  {
   "cell_type": "markdown",
   "id": "492c8af2-4ec8-4e5b-b7b6-8d5c58328124",
   "metadata": {},
   "source": [
    "496 is Ham and 203 is spam"
   ]
  },
  {
   "cell_type": "code",
   "execution_count": 10,
   "id": "f77591eb-ba02-4002-8a25-fdf46a8fd554",
   "metadata": {},
   "outputs": [
    {
     "data": {
      "text/plain": [
       "<AxesSubplot: xlabel='Label', ylabel='count'>"
      ]
     },
     "execution_count": 10,
     "metadata": {},
     "output_type": "execute_result"
    },
    {
     "data": {
      "image/png": "[encoded data removed]",
      "text/plain": [
       "<Figure size 1000x700 with 1 Axes>"
      ]
     },
     "metadata": {},
     "output_type": "display_data"
    }
   ],
   "source": [
    "plt.style.use('dark_background')\n",
    "plt.figure(figsize=(10,7))\n",
    "sns.countplot(data=data,x=\"Label\")"
   ]
  },
  {
   "cell_type": "markdown",
   "id": "21a577ec-94f0-4b4a-8f6a-e21b26262d33",
   "metadata": {},
   "source": [
    "## Feature Extraction"
   ]
  },
  {
   "cell_type": "code",
   "execution_count": 11,
   "id": "9b2bd0a5-dfb1-4435-950e-2d33d9a90ebd",
   "metadata": {},
   "outputs": [
    {
     "data": {
      "text/plain": [
       "((699,), (699,))"
      ]
     },
     "execution_count": 11,
     "metadata": {},
     "output_type": "execute_result"
    }
   ],
   "source": [
    "X=data.loc[:,'Text'] # independent\n",
    "y=data.loc[:,'Label_Number']\n",
    "X.shape ,y.shape"
   ]
  },
  {
   "cell_type": "code",
   "execution_count": 12,
   "id": "60a429a5-2a83-4d81-a1a3-a02361f3147b",
   "metadata": {},
   "outputs": [],
   "source": [
    "# Import the CountVectorizer class from the scikit-learn library.\n",
    "from sklearn.feature_extraction.text import CountVectorizer\n",
    "# Create a CountVectorizer object.\n",
    "cv = CountVectorizer()\n",
    "X = cv.fit_transform(data.Text)\n",
    "y = data.Label"
   ]
  },
  {
   "cell_type": "markdown",
   "id": "2746dbcf-e444-41b9-8591-b65f29627d03",
   "metadata": {},
   "source": [
    "## Model Training"
   ]
  },
  {
   "cell_type": "code",
   "execution_count": 13,
   "id": "b79e9256-172e-49ca-8ae0-e05e79b12efb",
   "metadata": {},
   "outputs": [],
   "source": [
    "from sklearn.model_selection import train_test_split\n",
    "X_train, X_test, y_train, y_test = train_test_split(X, y, test_size=0.25,random_state=0)"
   ]
  },
  {
   "cell_type": "code",
   "execution_count": 14,
   "id": "90144cb5-e457-418f-be3d-9d255fbf7da0",
   "metadata": {},
   "outputs": [],
   "source": [
    "from sklearn.ensemble import RandomForestClassifier, GradientBoostingClassifier\n",
    "from sklearn.naive_bayes import MultinomialNB\n",
    "from sklearn.linear_model import LogisticRegression\n",
    "from sklearn.neighbors import KNeighborsClassifier\n",
    "from sklearn.tree import DecisionTreeClassifier\n",
    "from sklearn.svm import LinearSVC, SVC"
   ]
  },
  {
   "cell_type": "code",
   "execution_count": 15,
   "id": "06cbcbe0-eaf0-4b83-805f-85a639117940",
   "metadata": {},
   "outputs": [],
   "source": [
    "models = {\n",
    "\"Random Forest\": {\"model\":RandomForestClassifier(), \"perf\":0},\n",
    "\"Gradient Boosting\": {\"model\":GradientBoostingClassifier(), \"perf\":0},\n",
    "\"MultinomialNB\": {\"model\":MultinomialNB(), \"perf\":0},\n",
    "\"Logistic Regr.\": {\"model\":LogisticRegression(), \"perf\":0},\n",
    "\"KNN\": {\"model\":KNeighborsClassifier(), \"perf\":0},\n",
    "\"Decision Tree\": {\"model\":DecisionTreeClassifier(), \"perf\":0},\n",
    "\"SVM (Linear)\": {\"model\":LinearSVC(), \"perf\":0},\n",
    "\"SVM (RBF)\": {\"model\":SVC(), \"perf\":0}\n",
    "}"
   ]
  },
  {
   "cell_type": "code",
   "execution_count": 16,
   "id": "e8f89547-52d6-4c03-b2d5-ead15458fe74",
   "metadata": {},
   "outputs": [
    {
     "name": "stdout",
     "output_type": "stream",
     "text": [
      "Random Forest        trained in 0.5 sec\n",
      "Gradient Boosting    trained in 2.17 sec\n",
      "MultinomialNB        trained in 0.0 sec\n",
      "Logistic Regr.       trained in 0.71 sec\n",
      "KNN                  trained in 0.0 sec\n",
      "Decision Tree        trained in 0.08 sec\n",
      "SVM (Linear)         trained in 0.06 sec\n",
      "SVM (RBF)            trained in 0.13 sec\n"
     ]
    }
   ],
   "source": [
    "from time import perf_counter\n",
    "for name, model in models.items():\n",
    "    start = perf_counter()\n",
    "    model['model'].fit(X_train, y_train)\n",
    "    duration = perf_counter() - start\n",
    "    duration = round(duration,2)\n",
    "    model[\"perf\"] = duration\n",
    "    print(f\"{name:20} trained in {duration} sec\")"
   ]
  },
  {
   "cell_type": "code",
   "execution_count": 17,
   "id": "fa53b2e1-3fda-42bd-a572-91c95b97687b",
   "metadata": {},
   "outputs": [],
   "source": [
    "from sklearn.metrics import accuracy_score\n",
    "models_accuracy = []\n",
    "for name, model in models.items():\n",
    "    accuracy = model[\"model\"].score(X_test, y_test)\n",
    "    models_accuracy.append([name, accuracy, model[\"perf\"]])\n",
    "models_accuracy1 = []\n",
    "for name, model in models.items():\n",
    "    accuracy = model[\"model\"].score(X_train, y_train)\n",
    "    models_accuracy1.append([name, accuracy, model[\"perf\"]])"
   ]
  },
  {
   "cell_type": "code",
   "execution_count": 18,
   "id": "e2c85f77-cf32-49ec-b9b4-eadbc90b3777",
   "metadata": {},
   "outputs": [
    {
     "data": {
      "text/html": [
       "<div>\n",
       "<style scoped>\n",
       "    .dataframe tbody tr th:only-of-type {\n",
       "        vertical-align: middle;\n",
       "    }\n",
       "\n",
       "    .dataframe tbody tr th {\n",
       "        vertical-align: top;\n",
       "    }\n",
       "\n",
       "    .dataframe thead th {\n",
       "        text-align: right;\n",
       "    }\n",
       "</style>\n",
       "<table border=\"1\" class=\"dataframe\">\n",
       "  <thead>\n",
       "    <tr style=\"text-align: right;\">\n",
       "      <th></th>\n",
       "      <th>Model</th>\n",
       "      <th>Test Accuracy</th>\n",
       "      <th>Training time (sec)</th>\n",
       "    </tr>\n",
       "  </thead>\n",
       "  <tbody>\n",
       "    <tr>\n",
       "      <th>0</th>\n",
       "      <td>Gradient Boosting</td>\n",
       "      <td>0.982857</td>\n",
       "      <td>2.17</td>\n",
       "    </tr>\n",
       "    <tr>\n",
       "      <th>1</th>\n",
       "      <td>Logistic Regr.</td>\n",
       "      <td>0.977143</td>\n",
       "      <td>0.71</td>\n",
       "    </tr>\n",
       "    <tr>\n",
       "      <th>2</th>\n",
       "      <td>MultinomialNB</td>\n",
       "      <td>0.971429</td>\n",
       "      <td>0.00</td>\n",
       "    </tr>\n",
       "    <tr>\n",
       "      <th>3</th>\n",
       "      <td>SVM (Linear)</td>\n",
       "      <td>0.960000</td>\n",
       "      <td>0.06</td>\n",
       "    </tr>\n",
       "    <tr>\n",
       "      <th>4</th>\n",
       "      <td>Random Forest</td>\n",
       "      <td>0.948571</td>\n",
       "      <td>0.50</td>\n",
       "    </tr>\n",
       "    <tr>\n",
       "      <th>5</th>\n",
       "      <td>Decision Tree</td>\n",
       "      <td>0.914286</td>\n",
       "      <td>0.08</td>\n",
       "    </tr>\n",
       "    <tr>\n",
       "      <th>6</th>\n",
       "      <td>KNN</td>\n",
       "      <td>0.822857</td>\n",
       "      <td>0.00</td>\n",
       "    </tr>\n",
       "    <tr>\n",
       "      <th>7</th>\n",
       "      <td>SVM (RBF)</td>\n",
       "      <td>0.777143</td>\n",
       "      <td>0.13</td>\n",
       "    </tr>\n",
       "  </tbody>\n",
       "</table>\n",
       "</div>"
      ],
      "text/plain": [
       "               Model  Test Accuracy  Training time (sec)\n",
       "0  Gradient Boosting       0.982857                 2.17\n",
       "1     Logistic Regr.       0.977143                 0.71\n",
       "2      MultinomialNB       0.971429                 0.00\n",
       "3       SVM (Linear)       0.960000                 0.06\n",
       "4      Random Forest       0.948571                 0.50\n",
       "5      Decision Tree       0.914286                 0.08\n",
       "6                KNN       0.822857                 0.00\n",
       "7          SVM (RBF)       0.777143                 0.13"
      ]
     },
     "execution_count": 18,
     "metadata": {},
     "output_type": "execute_result"
    }
   ],
   "source": [
    "df_accuracy = pd.DataFrame(models_accuracy)\n",
    "df_accuracy.columns = ['Model', 'Test Accuracy', 'Training time (sec)']\n",
    "df_accuracy.sort_values(by = 'Test Accuracy', ascending = False, inplace=True)\n",
    "df_accuracy.reset_index(drop = True, inplace=True)\n",
    "df_accuracy"
   ]
  },
  {
   "cell_type": "code",
   "execution_count": 19,
   "id": "e4db9d6a-3494-4d56-859e-f46a6541c615",
   "metadata": {},
   "outputs": [
    {
     "data": {
      "image/png": "[encoded data removed]",
      "text/plain": [
       "<Figure size 1500x500 with 1 Axes>"
      ]
     },
     "metadata": {},
     "output_type": "display_data"
    }
   ],
   "source": [
    "plt.figure(figsize = (15,5))\n",
    "sns.barplot(x = 'Model', y ='Test Accuracy', data = df_accuracy)\n",
    "plt.title('Accuracy on the test set\\n', fontsize = 15)\n",
    "plt.ylim(0.825,1)\n",
    "plt.show()"
   ]
  },
  {
   "cell_type": "markdown",
   "id": "fc944256-205f-4ac2-8389-1e573dd2d092",
   "metadata": {},
   "source": [
    "### GradientBoosting gives the best results in terms of Test Accuracy"
   ]
  }
 ],
 "metadata": {
  "kernelspec": {
   "display_name": "Python 3 (ipykernel)",
   "language": "python",
   "name": "python3"
  },
  "language_info": {
   "codemirror_mode": {
    "name": "ipython",
    "version": 3
   },
   "file_extension": ".py",
   "mimetype": "text/x-python",
   "name": "python",
   "nbconvert_exporter": "python",
   "pygments_lexer": "ipython3",
   "version": "3.10.8"
  }
 },
 "nbformat": 4,
 "nbformat_minor": 5
}
